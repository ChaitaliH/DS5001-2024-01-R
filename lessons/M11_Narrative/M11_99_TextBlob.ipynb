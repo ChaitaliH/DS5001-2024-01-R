{
 "cells": [
  {
   "cell_type": "markdown",
   "id": "fb665b4b-449d-49a4-bf4b-9d57734b7949",
   "metadata": {},
   "source": [
    "# Set Up"
   ]
  },
  {
   "cell_type": "markdown",
   "id": "ec40e0d4-db9e-4019-85cf-691c00d6a951",
   "metadata": {},
   "source": [
    "## Config"
   ]
  },
  {
   "cell_type": "code",
   "execution_count": 21,
   "id": "b791e946-bb3c-4489-a823-7857aad0f689",
   "metadata": {
    "tags": []
   },
   "outputs": [],
   "source": [
    "import configparser\n",
    "config = configparser.ConfigParser()\n",
    "config.read(\"../../../env.ini\")\n",
    "data_home = config['DEFAULT']['data_home']\n",
    "output_dir = config['DEFAULT']['output_dir']\n",
    "local_lib = config['DEFAULT']['local_lib']"
   ]
  },
  {
   "cell_type": "code",
   "execution_count": 66,
   "id": "e454e642-131c-4eb3-acee-e7409a39e930",
   "metadata": {
    "tags": []
   },
   "outputs": [],
   "source": [
    "text_file =  f\"{data_home}/austen/pg105.txt\""
   ]
  },
  {
   "cell_type": "code",
   "execution_count": 23,
   "id": "5ce8e054-27eb-4bf2-87ff-e4207419c874",
   "metadata": {
    "tags": []
   },
   "outputs": [],
   "source": [
    "import pandas as pd"
   ]
  },
  {
   "cell_type": "markdown",
   "id": "fac50f0c-935c-41f7-a0ad-1df29877986c",
   "metadata": {},
   "source": [
    "# Textblob\n",
    "\n",
    "> TextBlob is a Python library for processing textual data. It provides a simple API for diving into common natural language processing (NLP) tasks such as part-of-speech tagging, noun phrase extraction, sentiment analysis, classification, and more.\n",
    "\n",
    "> TextBlob aims to provide access to common text-processing operations through a familiar interface. You can treat TextBlob objects as if they were Python strings that learned how to do Natural Language Processing. \n",
    "\n",
    "[Source](https://textblob.readthedocs.io/en/dev/)."
   ]
  },
  {
   "cell_type": "code",
   "execution_count": 84,
   "id": "10bb902f-9d41-4ac4-9b3d-98354ce89675",
   "metadata": {
    "tags": []
   },
   "outputs": [],
   "source": [
    "from textblob import TextBlob\n",
    "from textblob import Blobber\n",
    "from textblob.taggers import NLTKTagger"
   ]
  },
  {
   "cell_type": "code",
   "execution_count": 85,
   "id": "287a11fa-fd19-47cf-9041-c7b62e3445b3",
   "metadata": {
    "tags": []
   },
   "outputs": [],
   "source": [
    "tb = Blobber(pos_tagger=NLTKTagger())"
   ]
  },
  {
   "cell_type": "code",
   "execution_count": 88,
   "id": "1d33c9a0-5bdf-43cd-a1df-3c714dc80e34",
   "metadata": {
    "tags": []
   },
   "outputs": [],
   "source": [
    "TB = tb(open(text_file, 'r').read())"
   ]
  },
  {
   "cell_type": "code",
   "execution_count": 127,
   "id": "41bd2a36-da10-4e33-8a27-7baf2b20d58b",
   "metadata": {
    "tags": []
   },
   "outputs": [],
   "source": [
    "SENTENCE = pd.DataFrame(dict(sent_str=[s.raw for s in TB.sentences]))\n",
    "SENTENCE.index.name = 'sent_num'"
   ]
  },
  {
   "cell_type": "code",
   "execution_count": 131,
   "id": "4fe6921a-6d06-4be7-a4a6-70e3fcbadc39",
   "metadata": {
    "tags": []
   },
   "outputs": [],
   "source": [
    "SENTENCE['polarity'] = [s.polarity for s in TB.sentences]"
   ]
  },
  {
   "cell_type": "code",
   "execution_count": 134,
   "id": "74e3c7fb-30fd-4846-a82e-cf0771fe68b9",
   "metadata": {
    "tags": []
   },
   "outputs": [],
   "source": [
    "SENTENCE['subjectivity'] = [s.subjectivity for s in TB.sentences]"
   ]
  },
  {
   "cell_type": "code",
   "execution_count": 178,
   "id": "2f0fb50a-8086-4144-9795-c944f372019c",
   "metadata": {
    "tags": []
   },
   "outputs": [],
   "source": [
    "# TB.sentences[100].ngrams(5) #__dir__()"
   ]
  },
  {
   "cell_type": "code",
   "execution_count": 163,
   "id": "3d4bcee7-c77b-424f-9f42-733d971a9e62",
   "metadata": {
    "tags": []
   },
   "outputs": [],
   "source": [
    "# SENTENCE.plot.scatter('polarity', 'subjectivity');"
   ]
  },
  {
   "cell_type": "code",
   "execution_count": 161,
   "id": "316e26a2-b6b7-4452-a140-db7fc51b5244",
   "metadata": {
    "tags": []
   },
   "outputs": [],
   "source": [
    "TOKEN = pd.DataFrame(\n",
    "    [(sent_num, token_num, pair[0], pair[1]) \n",
    "     for sent_num, sentence in enumerate(TB.sentences) \n",
    "     for token_num, pair in enumerate(sentence.tags)],\n",
    "    columns=['sent_num', 'token_num', 'token_str', 'pos'])\\\n",
    "    .set_index(['sent_num', 'token_num'])"
   ]
  },
  {
   "cell_type": "code",
   "execution_count": 162,
   "id": "4b619601-2082-4f8d-b1c1-46e89df98e04",
   "metadata": {
    "tags": []
   },
   "outputs": [
    {
     "data": {
      "text/html": [
       "<div>\n",
       "<style scoped>\n",
       "    .dataframe tbody tr th:only-of-type {\n",
       "        vertical-align: middle;\n",
       "    }\n",
       "\n",
       "    .dataframe tbody tr th {\n",
       "        vertical-align: top;\n",
       "    }\n",
       "\n",
       "    .dataframe thead th {\n",
       "        text-align: right;\n",
       "    }\n",
       "</style>\n",
       "<table border=\"1\" class=\"dataframe\">\n",
       "  <thead>\n",
       "    <tr style=\"text-align: right;\">\n",
       "      <th></th>\n",
       "      <th></th>\n",
       "      <th>token_str</th>\n",
       "      <th>pos</th>\n",
       "    </tr>\n",
       "    <tr>\n",
       "      <th>sent_num</th>\n",
       "      <th>token_num</th>\n",
       "      <th></th>\n",
       "      <th></th>\n",
       "    </tr>\n",
       "  </thead>\n",
       "  <tbody>\n",
       "    <tr>\n",
       "      <th rowspan=\"5\" valign=\"top\">0</th>\n",
       "      <th>0</th>\n",
       "      <td>﻿The</td>\n",
       "      <td>NN</td>\n",
       "    </tr>\n",
       "    <tr>\n",
       "      <th>1</th>\n",
       "      <td>Project</td>\n",
       "      <td>NNP</td>\n",
       "    </tr>\n",
       "    <tr>\n",
       "      <th>2</th>\n",
       "      <td>Gutenberg</td>\n",
       "      <td>NNP</td>\n",
       "    </tr>\n",
       "    <tr>\n",
       "      <th>3</th>\n",
       "      <td>EBook</td>\n",
       "      <td>NNP</td>\n",
       "    </tr>\n",
       "    <tr>\n",
       "      <th>4</th>\n",
       "      <td>of</td>\n",
       "      <td>IN</td>\n",
       "    </tr>\n",
       "    <tr>\n",
       "      <th>...</th>\n",
       "      <th>...</th>\n",
       "      <td>...</td>\n",
       "      <td>...</td>\n",
       "    </tr>\n",
       "    <tr>\n",
       "      <th rowspan=\"5\" valign=\"top\">3773</th>\n",
       "      <th>51</th>\n",
       "      <td>to</td>\n",
       "      <td>TO</td>\n",
       "    </tr>\n",
       "    <tr>\n",
       "      <th>52</th>\n",
       "      <td>hear</td>\n",
       "      <td>VB</td>\n",
       "    </tr>\n",
       "    <tr>\n",
       "      <th>53</th>\n",
       "      <td>about</td>\n",
       "      <td>IN</td>\n",
       "    </tr>\n",
       "    <tr>\n",
       "      <th>54</th>\n",
       "      <td>new</td>\n",
       "      <td>JJ</td>\n",
       "    </tr>\n",
       "    <tr>\n",
       "      <th>55</th>\n",
       "      <td>eBooks</td>\n",
       "      <td>NNS</td>\n",
       "    </tr>\n",
       "  </tbody>\n",
       "</table>\n",
       "<p>86902 rows × 2 columns</p>\n",
       "</div>"
      ],
      "text/plain": [
       "                    token_str  pos\n",
       "sent_num token_num                \n",
       "0        0               ﻿The   NN\n",
       "         1            Project  NNP\n",
       "         2          Gutenberg  NNP\n",
       "         3              EBook  NNP\n",
       "         4                 of   IN\n",
       "...                       ...  ...\n",
       "3773     51                to   TO\n",
       "         52              hear   VB\n",
       "         53             about   IN\n",
       "         54               new   JJ\n",
       "         55            eBooks  NNS\n",
       "\n",
       "[86902 rows x 2 columns]"
      ]
     },
     "execution_count": 162,
     "metadata": {},
     "output_type": "execute_result"
    }
   ],
   "source": [
    "TOKEN"
   ]
  },
  {
   "cell_type": "code",
   "execution_count": 107,
   "id": "4195e395-8008-40b6-ae21-f7a353987b60",
   "metadata": {
    "tags": []
   },
   "outputs": [
    {
     "data": {
      "text/plain": [
       "defaultdict(int,\n",
       "            {'lady': 1,\n",
       "             'russell': 1,\n",
       "             's': 1,\n",
       "             'had': 1,\n",
       "             'no': 1,\n",
       "             'success': 1,\n",
       "             'at': 1,\n",
       "             'all': 1,\n",
       "             'could': 1,\n",
       "             'not': 2,\n",
       "             'be': 2,\n",
       "             'put': 1,\n",
       "             'up': 1,\n",
       "             'with': 1,\n",
       "             'were': 1,\n",
       "             'to': 1,\n",
       "             'borne': 1})"
      ]
     },
     "execution_count": 107,
     "metadata": {},
     "output_type": "execute_result"
    }
   ],
   "source": [
    "TB.sentences[100].word_counts"
   ]
  },
  {
   "cell_type": "code",
   "execution_count": 111,
   "id": "d1db3010-dd69-408a-ad86-4088c4786e63",
   "metadata": {
    "tags": []
   },
   "outputs": [
    {
     "data": {
      "text/plain": [
       "[[['Lady', 'NNP', 'B-NP', 'O'],\n",
       "  ['Russell', 'NNP', 'I-NP', 'O'],\n",
       "  [\"'\", 'POS', 'O', 'O'],\n",
       "  ['s', 'PRP', 'B-NP', 'O'],\n",
       "  ['had', 'VBD', 'B-VP', 'O'],\n",
       "  ['no', 'DT', 'B-NP', 'O'],\n",
       "  ['success', 'NN', 'I-NP', 'O'],\n",
       "  ['at', 'IN', 'B-PP', 'O'],\n",
       "  ['all', 'DT', 'O', 'O'],\n",
       "  [':', ':', 'O', 'O'],\n",
       "  ['could', 'MD', 'B-VP', 'O'],\n",
       "  ['not', 'RB', 'I-VP', 'O'],\n",
       "  ['be', 'VB', 'I-VP', 'O'],\n",
       "  ['put', 'VB', 'I-VP', 'O'],\n",
       "  ['up', 'IN', 'B-PP', 'B-PNP'],\n",
       "  ['with', 'IN', 'I-PP', 'I-PNP'],\n",
       "  [',', ',', 'O', 'O'],\n",
       "  ['were', 'VBD', 'B-VP', 'O'],\n",
       "  ['not', 'RB', 'B-ADVP', 'O'],\n",
       "  ['to', 'TO', 'B-PP', 'O'],\n",
       "  ['be', 'VB', 'B-VP', 'O'],\n",
       "  ['borne', 'VBN', 'I-VP', 'O'],\n",
       "  ['.', '.', 'O', 'O']]]"
      ]
     },
     "execution_count": 111,
     "metadata": {},
     "output_type": "execute_result"
    }
   ],
   "source": [
    "TB.sentences[100].parse().split()"
   ]
  }
 ],
 "metadata": {
  "kernelspec": {
   "display_name": "eta",
   "language": "python",
   "name": "eta"
  },
  "language_info": {
   "codemirror_mode": {
    "name": "ipython",
    "version": 3
   },
   "file_extension": ".py",
   "mimetype": "text/x-python",
   "name": "python",
   "nbconvert_exporter": "python",
   "pygments_lexer": "ipython3",
   "version": "3.9.19"
  }
 },
 "nbformat": 4,
 "nbformat_minor": 5
}
